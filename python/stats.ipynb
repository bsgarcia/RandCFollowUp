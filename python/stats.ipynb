{
 "cells": [
  {
   "cell_type": "code",
   "execution_count": 2,
   "metadata": {},
   "outputs": [],
   "source": [
    "import numpy as np\n",
    "import pingouin as pg\n",
    "import pandas as pd\n"
   ]
  },
  {
   "cell_type": "markdown",
   "metadata": {},
   "source": [
    "# Utils"
   ]
  },
  {
   "cell_type": "code",
   "execution_count": 13,
   "metadata": {},
   "outputs": [],
   "source": [
    "def read_csv(name):\n",
    "    df = pd.read_csv(f'../data/stats/{name}.csv')\n",
    "    # pd.set_option('display.max_columns', None)\n",
    "    # pd.set_option('max_columns', None)\n",
    "    print(df.head())\n",
    "    return df"
   ]
  },
  {
   "cell_type": "markdown",
   "metadata": {},
   "source": [
    "# Review, fig1, test accuracy bad/good"
   ]
  },
  {
   "cell_type": "code",
   "execution_count": 15,
   "metadata": {},
   "outputs": [
    {
     "name": "stdout",
     "output_type": "stream",
     "text": [
      "      value modality split\n",
      "0  0.750000       LE  poor\n",
      "1  0.741667       LE  poor\n",
      "2  0.600000       LE  poor\n",
      "3  0.641667       LE  poor\n",
      "4  0.616667       LE  poor\n",
      "\n",
      "==============\n",
      "POST HOC TESTS\n",
      "==============\n",
      "\n",
      "Contrast          modality    A     B     Paired    Parametric             T         dof  Tail          p-unc      p-corr  p-adjust                                                                                                                BF10     hedges\n",
      "----------------  ----------  ----  ----  --------  ------------  ----------  ----------  ---------  --------  ----------  ----------  ----------------------------------------------------------------------------------------------------------------  ---------\n",
      "modality          -           LE    ES    False     True           -7.703762  906.000000  two-sided  0.000000  nan         nan                                                                                                      154600000000.000000  -0.510893\n",
      "split             -           poor  good  False     True          -22.685138  906.000000  two-sided  0.000000  nan         nan                           529199999999999979583438821167642555255542831087711611369716222115079090898608802758656.000000  -1.504419\n",
      "modality * split  LE          poor  good  False     True          -29.785570  452.000000  two-sided  0.000000    0.000000  bonf        442800000000000024401489404330806688875328202586462009696064698026993062737900166799669143567482912505856.000000  -2.791170\n",
      "modality * split  ES          poor  good  False     True           -7.522400  452.000000  two-sided  0.000000    0.000000  bonf                                                                                                      21430000000.000000  -0.704915\n",
      "\n"
     ]
    }
   ],
   "source": [
    "filename = 'review_perf_fig1'\n",
    "df = read_csv(filename)\n",
    "\n",
    "res = pg.pairwise_ttests(dv='value', between=['modality', 'split'], subject='id',\n",
    "            data=df, padjust='bonf', parametric=True)\n",
    "\n",
    "pg.print_table(res, floatfmt='.6f')\n",
    "\n",
    "\n"
   ]
  },
  {
   "cell_type": "markdown",
   "metadata": {},
   "source": [
    "# Fig 2, test slope bad good"
   ]
  },
  {
   "cell_type": "code",
   "execution_count": 11,
   "metadata": {},
   "outputs": [
    {
     "name": "stdout",
     "output_type": "stream",
     "text": [
      "      value modality split\n",
      "0  0.683333       LE  poor\n",
      "1  0.691667       LE  poor\n",
      "2  0.783333       LE  poor\n",
      "3  0.500000       LE  poor\n",
      "4  0.466667       LE  poor\n",
      "\n",
      "==============\n",
      "POST HOC TESTS\n",
      "==============\n",
      "\n",
      "Contrast          modality    A     B     Paired    Parametric             T         dof  Tail          p-unc      p-corr  p-adjust                                                                                                                                    BF10     hedges\n",
      "----------------  ----------  ----  ----  --------  ------------  ----------  ----------  ---------  --------  ----------  ----------  ------------------------------------------------------------------------------------------------------------------------------------  ---------\n",
      "modality          -           LE    ES    False     True           28.594504  906.000000  two-sided  0.000000  nan         nan         42990000000000000129420382400195048182108446341667389415448642504426140716668347893341788120799448465253324500776204149719040.000000   1.896312\n",
      "split             -           poor  good  False     True          -10.681446  906.000000  two-sided  0.000000  nan         nan                                                                                                                8604000000000000000000.000000  -0.708365\n",
      "modality * split  LE          poor  good  False     True          -29.785570  452.000000  two-sided  0.000000    0.000000  bonf                            442800000000000024401489404330806688875328202586462009696064698026993062737900166799669143567482912505856.000000  -2.791170\n",
      "modality * split  ES          poor  good  False     True           -8.036505  452.000000  two-sided  0.000000    0.000000  bonf                                                                                                                         686700000000.000000  -0.753091\n",
      "\n"
     ]
    }
   ],
   "source": [
    "filename = 'review_perf_fig2'\n",
    "df = read_csv(filename)\n",
    "\n",
    "res = pg.pairwise_ttests(dv='value', between=['modality', 'split'], subject='id',\n",
    "            data=df, padjust='bonf', parametric=True)\n",
    "\n",
    "pg.print_table(res, floatfmt='.6f')\n",
    "\n",
    "\n"
   ]
  }
 ],
 "metadata": {
  "interpreter": {
   "hash": "916dbcbb3f70747c44a77c7bcd40155683ae19c65e1c03b4aa3499c5328201f1"
  },
  "kernelspec": {
   "display_name": "Python 3.8.10 64-bit",
   "language": "python",
   "name": "python3"
  },
  "language_info": {
   "codemirror_mode": {
    "name": "ipython",
    "version": 3
   },
   "file_extension": ".py",
   "mimetype": "text/x-python",
   "name": "python",
   "nbconvert_exporter": "python",
   "pygments_lexer": "ipython3",
   "version": "3.8.10"
  },
  "orig_nbformat": 4
 },
 "nbformat": 4,
 "nbformat_minor": 2
}
