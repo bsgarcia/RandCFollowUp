{
 "cells": [
  {
   "cell_type": "markdown",
   "metadata": {},
   "source": [
    "# Import modules"
   ]
  },
  {
   "cell_type": "code",
   "execution_count": 1,
   "metadata": {},
   "outputs": [],
   "source": [
    "import numpy as np\n",
    "import pingouin as pg\n",
    "import pandas as pd\n",
    "import seaborn as sns\n",
    "from IPython.core.interactiveshell import InteractiveShell\n",
    "InteractiveShell.ast_node_interactivity = 'all'\n",
    "import statsmodels.api as sm\n",
    "import statsmodels.formula.api as smf\n",
    "import scipy\n"
   ]
  },
  {
   "cell_type": "markdown",
   "metadata": {},
   "source": [
    "# Functions (helpers)"
   ]
  },
  {
   "cell_type": "code",
   "execution_count": 2,
   "metadata": {},
   "outputs": [],
   "source": [
    "def read_csv(name, info=True, sep=','):\n",
    "    df = pd.read_csv(f'../data/demographics/{name}.csv', sep=sep)\n",
    "    # pd.set_option('display.max_columns', None)\n",
    "    # pd.set_option('max_columns', None)\n",
    "    if info:\n",
    "        print_section('DATASET INFO')\n",
    "        print('N rows=', df.size)\n",
    "        print('N cols=', len(df.columns))\n",
    "        print(df.head())\n",
    "    return df\n",
    "\n",
    "def print_section(title):\n",
    "    print('\\n')\n",
    "    print( '*' + '-' * 135 + '*')\n",
    "    print('* ' + title)\n",
    "    print( '*' + '-' * 135 + '*')\n",
    "\n",
    "def print_subsection(title):\n",
    "    print('\\n')\n",
    "    print('***** ' + title + ' *****')\n",
    "    print( '*' + '-' * 135 + '*')"
   ]
  },
  {
   "cell_type": "code",
   "execution_count": 3,
   "metadata": {},
   "outputs": [],
   "source": [
    "# filenames = [\n",
    "#    'interleaved_incomplete', 'block_complete',\n",
    "#    'block_complete_simple',\n",
    "#    'block_complete_mixed',  'block_complete_mixed_2s','block_complete_mixed_2s_amb_heuristic',\n",
    "#    'block_complete_mixed_2s_amb_final', 'incentivize', 'evoutcome'\n",
    "\n",
    "# ]\n",
    "# dem = {}\n",
    "# for f in filenames:\n",
    "#     if f == 'block_complete_mixed_2s_amb_final':\n",
    "#         dem[f] = pd.read_csv('../data/demographics/' + f + '.csv', sep=';')\n",
    "#     else: dem[f] = read_csv(f)\n",
    "\n",
    "# # d = dem[\"block_incomplete\"][dem['block_incomplete']['status'] == 'APPROVED']\n",
    "# # d\n",
    "# df = {}\n",
    "# ids = pd.read_csv('../sub_ids.csv')\n",
    "# ids['prolific_id'] = 'nothing'\n",
    "# for f in filenames:\n",
    "#     df = pd.read_csv('../data/csv/' + f + '.csv', header=None)\n",
    "#     # df.loc[-1] = [str(i) for i in range(len(df.columns))]  # adding a row\n",
    "#     # df.index = df.index + 1  # shifting index\n",
    "#     # df.sort_index(inplace=True) \n",
    "#     for i in ids[ids.exp_name==f]['id']:\n",
    "#         try:\n",
    "#             prolific_id = df[df[1]==i][2].unique()[0]\n",
    "#         # break\n",
    "#             ids.loc[ids.id==i, 'prolific_id'] = prolific_id\n",
    "#         except:\n",
    "#             try:\n",
    "#                 prolific_id = df[df[1]==str(i)][2].unique()[0]\n",
    "#                 ids.loc[ids.id==i, 'prolific_id'] = prolific_id\n",
    "#             except:\n",
    "#                 print(i, ' is missing...')\n",
    "    \n",
    "# # for i in ids['id']:\n",
    "#     # df\n",
    "# ids.to_csv('../sub_ids_with_prolific_id.csv', index=False)\n"
   ]
  },
  {
   "cell_type": "code",
   "execution_count": 4,
   "metadata": {},
   "outputs": [],
   "source": [
    "# df = pd.read_csv('../sub_ids_with_prolific_id.csv')\n",
    "\n",
    "# ids = df['prolific_id'].unique()\n",
    "# exps = df['exp_name'].unique()\n",
    "# df['age'] = np.nan\n",
    "# df['gender'] = np.nan\n",
    "\n",
    "# for f in exps:\n",
    "#     sep = ','\n",
    "#     if f == 'block_incomplete':\n",
    "          # get prolific ids from demographics\n",
    "#         ddf = pd.read_csv('../data/demographics/block_incomplete.csv')\n",
    "#         ddf = ddf[ddf.status == 'APPROVED']\n",
    "#         df.loc[df.exp_name=='block_incomplete', 'prolific_id'] = idx\n",
    "#         ids = df['prolific_id'].unique()\n",
    "\n",
    "#     if f == 'block_complete_mixed_2s_amb_final':\n",
    "#         sep = ';'\n",
    "#     print(f)\n",
    "#     dem = pd.read_csv('../data/demographics/' + f + '.csv', sep=sep)\n",
    "#     for i in ids:\n",
    "#         try:\n",
    "#             df.loc[df.prolific_id==i, 'gender'] = dem.loc[dem['participant_id'] == i, 'Sex'].values[0]\n",
    "#             df.loc[df.prolific_id==i, 'age'] = dem.loc[dem['participant_id'] == i, 'age'].values[0]\n",
    "#         except:\n",
    "#             print(i, ' is missing...')\n",
    "#             pass\n",
    "# df.to_csv('../data/demographics/included_subjects.csv')"
   ]
  },
  {
   "cell_type": "code",
   "execution_count": 40,
   "metadata": {},
   "outputs": [
    {
     "name": "stdout",
     "output_type": "stream",
     "text": [
      "Female          35\n",
      "Male            34\n",
      "DATA EXPIRED     4\n",
      "DATA_EXPIRED     3\n",
      "Name: gender, dtype: int64\n",
      "Female          39\n",
      "Male            26\n",
      "DATA EXPIRED     6\n",
      "Name: gender, dtype: int64\n",
      "Male            41\n",
      "Female          38\n",
      "DATA_EXPIRED     2\n",
      "DATA EXPIRED     2\n",
      "Name: gender, dtype: int64\n",
      "Male            48\n",
      "Female          33\n",
      "DATA EXPIRED     5\n",
      "DATA_EXPIRED     2\n",
      "Name: gender, dtype: int64\n",
      "Male            38\n",
      "Female          31\n",
      "DATA EXPIRED     2\n",
      "Name: gender, dtype: int64\n",
      "Female          32\n",
      "Male            32\n",
      "DATA EXPIRED     2\n",
      "Name: gender, dtype: int64\n",
      "Female          36\n",
      "Male            32\n",
      "DATA_EXPIRED     3\n",
      "Name: gender, dtype: int64\n",
      "Female          38\n",
      "Male            33\n",
      "DATA EXPIRED     2\n",
      "Name: gender, dtype: int64\n",
      "Male            47\n",
      "Female          25\n",
      "DATA_EXPIRED     2\n",
      "Name: gender, dtype: int64\n"
     ]
    },
    {
     "data": {
      "text/plain": [
       "673"
      ]
     },
     "execution_count": 40,
     "metadata": {},
     "output_type": "execute_result"
    },
    {
     "data": {
      "text/plain": [
       "307"
      ]
     },
     "execution_count": 40,
     "metadata": {},
     "output_type": "execute_result"
    },
    {
     "data": {
      "text/plain": [
       "331"
      ]
     },
     "execution_count": 40,
     "metadata": {},
     "output_type": "execute_result"
    },
    {
     "data": {
      "text/plain": [
       "35"
      ]
     },
     "execution_count": 40,
     "metadata": {},
     "output_type": "execute_result"
    },
    {
     "data": {
      "text/plain": [
       "673"
      ]
     },
     "execution_count": 40,
     "metadata": {},
     "output_type": "execute_result"
    }
   ],
   "source": [
    "\n",
    "\n",
    "df = pd.read_csv('../data/demographics/included_subjects_without_revoked.csv')\n",
    "#df.loc[(df['gender'].isna()) | (df['gender']=='CONSENT REVOKED'), 'gender'] = 'DATA_EXPIRED'\n",
    "#df.to_csv('../data/demographics/included_subjects_without_revoked.csv')\n",
    "\n",
    "#df[df['age'] == 'DATA_EXPIRED'] = np.random.choice('')\n",
    "d = []\n",
    "for e in df.exp_num.unique():\n",
    "    if e == 10: continue\n",
    "\n",
    "    gender = df[df.exp_num==e].gender.value_counts()\n",
    "    age = df[(df.exp_num==e) & (df.age != 'DATA_EXPIRED')]\n",
    "    exp_name = df[df.exp_num==e].exp_name.values[0]\n",
    "    without = gender.drop(labels=['Male', 'Female'], inplace=False)\n",
    "    other_gender = without.sum()\n",
    "    \n",
    "    print(gender)\n",
    "\n",
    "    d.append(\n",
    "        {   'exp_num': e,\n",
    "            'exp_name': exp_name,\n",
    "            'age_std': age.age.astype(float).std(),\n",
    "            'age': age.age.astype(float).mean(),\n",
    "            'prefer_not': other_gender,\n",
    "            'M': gender['Male'],\n",
    "            '%M': (gender['Male']/sum(gender)).round(2),\n",
    "            'F': gender['Female'],\n",
    "            '%F': (gender['Female']/sum(gender)).round(2),\n",
    "            'N': len(df[df.exp_num==e])\n",
    "\n",
    "    })\n",
    "\n",
    "new_df = pd.DataFrame(d) \n",
    "new_df.N.sum()\n",
    "# new_df.age.mean()\n",
    "# new_df.age_std.mean()\n",
    "\n",
    "new_df.F.sum()\n",
    "new_df.M.sum()\n",
    "new_df.prefer_not.sum()\n",
    "307+331+35"
   ]
  },
  {
   "cell_type": "markdown",
   "metadata": {},
   "source": []
  }
 ],
 "metadata": {
  "kernelspec": {
   "display_name": "Python 3.8.10 64-bit",
   "language": "python",
   "name": "python3"
  },
  "language_info": {
   "codemirror_mode": {
    "name": "ipython",
    "version": 3
   },
   "file_extension": ".py",
   "mimetype": "text/x-python",
   "name": "python",
   "nbconvert_exporter": "python",
   "pygments_lexer": "ipython3",
   "version": "3.8.10"
  },
  "orig_nbformat": 4,
  "vscode": {
   "interpreter": {
    "hash": "2b3086e9a0ffebc35bc3f98f4ec891e50592e0242d861b3d3ab50ae3af8f7ac1"
   }
  }
 },
 "nbformat": 4,
 "nbformat_minor": 2
}
